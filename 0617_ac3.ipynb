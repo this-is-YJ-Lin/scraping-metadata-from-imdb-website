{
 "cells": [
  {
   "cell_type": "code",
   "execution_count": 4,
   "metadata": {},
   "outputs": [
    {
     "name": "stdout",
     "output_type": "stream",
     "text": [
      "<Response [200]>\n"
     ]
    },
    {
     "data": {
      "text/plain": [
       "{'page': 1,\n",
       " 'results': [{'adult': False,\n",
       "   'id': 6407,\n",
       "   'known_for': [{'adult': False,\n",
       "     'backdrop_path': '/my81Hjt7NpZhaMX9bHi4wVhFy0v.jpg',\n",
       "     'genre_ids': [28, 53, 80, 878],\n",
       "     'id': 187,\n",
       "     'media_type': 'movie',\n",
       "     'original_language': 'en',\n",
       "     'original_title': 'Sin City',\n",
       "     'overview': 'Welcome to Sin City. This town beckons to the tough, the corrupt, the brokenhearted. Some call it dark… Hard-boiled. Then there are those who call it home — Crooked cops, sexy dames, desperate vigilantes. Some are seeking revenge, others lust after redemption, and then there are those hoping for a little of both. A universe of unlikely and reluctant heroes still trying to do the right thing in a city that refuses to care.',\n",
       "     'popularity': 13.383548,\n",
       "     'poster_path': '/vKJVGOKPyWqp9d2EX5NH1liqRqR.jpg',\n",
       "     'release_date': '2005-04-01',\n",
       "     'title': 'Sin City',\n",
       "     'video': False,\n",
       "     'vote_average': 7.3,\n",
       "     'vote_count': 3607},\n",
       "    {'adult': False,\n",
       "     'backdrop_path': '/lnxiNlbStoBT4CDMqPAdprS5pwN.jpg',\n",
       "     'genre_ids': [28, 53],\n",
       "     'id': 1991,\n",
       "     'media_type': 'movie',\n",
       "     'original_language': 'en',\n",
       "     'original_title': 'Death Proof',\n",
       "     'overview': \"Austin's hottest DJ, Jungle Julia, sets out into the night to unwind with her two friends Shanna and Arlene. Covertly tracking their moves is Stuntman Mike, a scarred rebel leering from behind the wheel of his muscle car, revving just feet away.\",\n",
       "     'popularity': 11.314353,\n",
       "     'poster_path': '/nyQBcpxqS4im2akQlWG9Y1oeM2V.jpg',\n",
       "     'release_date': '2007-05-21',\n",
       "     'title': 'Death Proof',\n",
       "     'video': False,\n",
       "     'vote_average': 6.7,\n",
       "     'vote_count': 1786},\n",
       "    {'adult': False,\n",
       "     'backdrop_path': '/a2zIKDg5QGFc2vzdaPXT7uZKipe.jpg',\n",
       "     'genre_ids': [27, 28, 53],\n",
       "     'id': 1992,\n",
       "     'media_type': 'movie',\n",
       "     'original_language': 'en',\n",
       "     'original_title': 'Planet Terror',\n",
       "     'overview': 'Two doctors find their graveyard shift inundated with townspeople ravaged by sores. Among the wounded is Cherry, a dancer whose leg was ripped from her body. As the invalids quickly become enraged aggressors, Cherry and her ex-boyfriend Wray lead a team of accidental warriors into the night.',\n",
       "     'popularity': 12.149771,\n",
       "     'poster_path': '/7Yjzttt0VfPphSsUg8vFUO9WaEt.jpg',\n",
       "     'release_date': '2007-04-06',\n",
       "     'title': 'Planet Terror',\n",
       "     'video': False,\n",
       "     'vote_average': 6.6,\n",
       "     'vote_count': 1428}],\n",
       "   'name': 'Marley Shelton',\n",
       "   'popularity': 11.240572,\n",
       "   'profile_path': '/n3XgupzMwQfX7YyTjolsnbhIIyV.jpg'}],\n",
       " 'total_pages': 1,\n",
       " 'total_results': 1}"
      ]
     },
     "execution_count": 4,
     "metadata": {},
     "output_type": "execute_result"
    }
   ],
   "source": [
    "import requests\n",
    "import csv\n",
    "import pandas as pd\n",
    "\n",
    "CONFIG_PATTERN = 'https://api.themoviedb.org/3/authentication/token/new?api_key=af1f5f7ab58dbb32c1083dec8113dd8b'\n",
    "KEY = '<af1f5f7ab58dbb32c1083dec8113dd8b>'\n",
    "\n",
    "#IMG_PATTERN = 'http://api.themoviedb.org/3/movie/tt4154756/images?api_key=e7a9762dabfdc186e180a0791bb06e7c' \n",
    "people_name = 'Marley Shelton'\n",
    "people_PATTERN = 'https://api.themoviedb.org/3/search/person?api_key=af1f5f7ab58dbb32c1083dec8113dd8b&language=en-US&query=' + people_name + '&page=1&include_adult=false'\n",
    "r = requests.get(people_PATTERN.format(key=KEY))\n",
    "print(r)\n",
    "result = r.json()\n",
    "result"
   ]
  },
  {
   "cell_type": "code",
   "execution_count": 6,
   "metadata": {},
   "outputs": [
    {
     "name": "stdout",
     "output_type": "stream",
     "text": [
      "---STAR---\n",
      "ready to load the data by pandas...\n",
      "...sucess\n",
      "ready to get celebirties name from file...\n",
      "...sucess\n"
     ]
    }
   ],
   "source": [
    "\n",
    "print('---STAR---')\n",
    "print('ready to load the data by pandas...')\n",
    "df = pd.read_csv('10038_movie_with_metadata.csv')\n",
    "print('...sucess')\n",
    "\n",
    "print('ready to get celebirties name from file...')\n",
    "list_of_ac3 = df.actor3\n",
    "print('...sucess')\n",
    "\n",
    "# setting config\n",
    "CONFIG_PATTERN = 'https://api.themoviedb.org/3/authentication/token/new?api_key=af1f5f7ab58dbb32c1083dec8113dd8b'\n",
    "KEY = '<af1f5f7ab58dbb32c1083dec8113dd8b>'"
   ]
  },
  {
   "cell_type": "code",
   "execution_count": 7,
   "metadata": {},
   "outputs": [
    {
     "data": {
      "text/plain": [
       "0"
      ]
     },
     "execution_count": 7,
     "metadata": {},
     "output_type": "execute_result"
    }
   ],
   "source": [
    "df['popu_ac3'] = 0\n",
    "df['popu_ac3'].iloc[10]"
   ]
  },
  {
   "cell_type": "code",
   "execution_count": 10,
   "metadata": {},
   "outputs": [
    {
     "data": {
      "text/plain": [
       "'Scott Glenn'"
      ]
     },
     "execution_count": 10,
     "metadata": {},
     "output_type": "execute_result"
    }
   ],
   "source": [
    "list_of_ac3[11]"
   ]
  },
  {
   "cell_type": "code",
   "execution_count": 13,
   "metadata": {
    "scrolled": true
   },
   "outputs": [
    {
     "name": "stdout",
     "output_type": "stream",
     "text": [
      "389\n",
      "Rufus Sewell\n"
     ]
    },
    {
     "name": "stderr",
     "output_type": "stream",
     "text": [
      "/Users/linyujing/anaconda/lib/python3.6/site-packages/pandas/core/indexing.py:179: SettingWithCopyWarning: \n",
      "A value is trying to be set on a copy of a slice from a DataFrame\n",
      "\n",
      "See the caveats in the documentation: http://pandas.pydata.org/pandas-docs/stable/indexing.html#indexing-view-versus-copy\n",
      "  self._setitem_with_indexer(indexer, value)\n"
     ]
    },
    {
     "name": "stdout",
     "output_type": "stream",
     "text": [
      "popu:  2.829337\n",
      "390\n",
      "Dabney Coleman\n",
      "popu:  3.217924\n",
      "391\n",
      "Brendan Fraser\n",
      "popu:  6.872791\n",
      "392\n",
      "Sandra Kwan Yue Ng\n",
      "---unfound---  392\n",
      "393\n",
      "Craig Bierko\n",
      "popu:  2.66213\n",
      "394\n",
      "Yasiin Bey\n",
      "popu:  2.102955\n",
      "395\n",
      "Stéphane Audran\n",
      "popu:  1.92797\n",
      "396\n",
      "Tony Todd\n",
      "popu:  2.186901\n",
      "397\n",
      "nan\n",
      "---empty data---  397\n",
      "398\n",
      "Samuel Fröler\n",
      "popu:  1.000001\n",
      "399\n",
      "Angelina Jolie\n",
      "popu:  9.968347\n",
      "400\n",
      "Manoel de Oliveira\n",
      "popu:  1.000094\n",
      "401\n",
      "Irene Bedard\n",
      "popu:  3.427741\n",
      "402\n",
      "Peter Michael Goetz\n",
      "popu:  1.000272\n",
      "403\n",
      "Graham Armitage\n",
      "popu:  1.000048\n",
      "404\n",
      "Fabio Frascaro\n",
      "popu:  1\n",
      "405\n",
      "Masahiko Nishimura\n",
      "popu:  1.009264\n",
      "406\n",
      "Mark Cabus\n",
      "popu:  1\n",
      "407\n",
      "David Cale\n",
      "popu:  1.001291\n",
      "408\n",
      "Rik Nagel\n",
      "popu:  1.000005\n",
      "409\n",
      "Rosanna Arquette\n",
      "popu:  7.129775\n",
      "410\n",
      "Mark Priolo\n",
      "popu:  1\n",
      "411\n",
      "Jacques Bonnaffé\n",
      "popu:  1.000001\n",
      "412\n",
      "Marie Trintignant\n",
      "popu:  1.100745\n",
      "413\n",
      "Bradley Fitts\n",
      "popu:  1\n",
      "414\n",
      "Pierre Png\n",
      "popu:  1.002667\n",
      "415\n",
      "Bonnie Bedelia\n",
      "popu:  3.524109\n",
      "416\n",
      "Asia Argento\n",
      "popu:  6.966727\n",
      "417\n",
      "nan\n",
      "---empty data---  417\n",
      "418\n",
      "Daniel Benzali\n",
      "popu:  1.000556\n",
      "419\n",
      "Josh Brolin\n",
      "popu:  16.819145\n",
      "420\n",
      "Cherifa\n",
      "---unfound---  420\n",
      "421\n",
      "R.D. Robb\n",
      "popu:  1.00001\n",
      "422\n",
      "Jonathan Walker\n",
      "popu:  1.036644\n",
      "423\n",
      "William Shatner\n",
      "popu:  4.061384\n",
      "424\n",
      "Irène Jacob\n",
      "popu:  2.548302\n",
      "425\n",
      "Jean-Pierre Bacri\n",
      "popu:  1.002107\n",
      "426\n",
      "Michael Moriarty\n",
      "popu:  1.540396\n",
      "427\n",
      "Rupert Everett\n",
      "popu:  6.682871\n",
      "428\n",
      "Mark Webber\n",
      "popu:  1.301801\n",
      "429\n",
      "Arielle Dombasle\n",
      "popu:  2.664813\n",
      "430\n",
      "Robin Williams\n",
      "popu:  5.168394\n",
      "431\n",
      "Luke de Lacey\n",
      "popu:  1.000414\n",
      "432\n",
      "Lauren Hutton\n",
      "popu:  1.000756\n",
      "433\n",
      "Harry Keitt\n",
      "---unfound---  433\n",
      "434\n",
      "Florence Thomassin\n",
      "popu:  2.125541\n",
      "435\n",
      "Cayetana Guillén Cuervo\n",
      "popu:  1.000317\n",
      "436\n",
      "Adrien Brody\n",
      "popu:  4.439657\n",
      "437\n",
      "Sushmita Sen\n",
      "popu:  1.001441\n",
      "438\n",
      "Jonny Greenwood\n"
     ]
    },
    {
     "ename": "KeyError",
     "evalue": "'results'",
     "output_type": "error",
     "traceback": [
      "\u001b[0;31m---------------------------------------------------------------------------\u001b[0m",
      "\u001b[0;31mKeyError\u001b[0m                                  Traceback (most recent call last)",
      "\u001b[0;32m<ipython-input-13-217acff6fd4c>\u001b[0m in \u001b[0;36m<module>\u001b[0;34m()\u001b[0m\n\u001b[1;32m     12\u001b[0m             \u001b[0mr\u001b[0m \u001b[0;34m=\u001b[0m \u001b[0mrequests\u001b[0m\u001b[0;34m.\u001b[0m\u001b[0mget\u001b[0m\u001b[0;34m(\u001b[0m\u001b[0mpeople_PATTERN\u001b[0m\u001b[0;34m.\u001b[0m\u001b[0mformat\u001b[0m\u001b[0;34m(\u001b[0m\u001b[0mkey\u001b[0m\u001b[0;34m=\u001b[0m\u001b[0mKEY\u001b[0m\u001b[0;34m)\u001b[0m\u001b[0;34m)\u001b[0m\u001b[0;34m\u001b[0m\u001b[0m\n\u001b[1;32m     13\u001b[0m             \u001b[0mresult\u001b[0m \u001b[0;34m=\u001b[0m \u001b[0mr\u001b[0m\u001b[0;34m.\u001b[0m\u001b[0mjson\u001b[0m\u001b[0;34m(\u001b[0m\u001b[0;34m)\u001b[0m\u001b[0;34m\u001b[0m\u001b[0m\n\u001b[0;32m---> 14\u001b[0;31m             \u001b[0mpopu\u001b[0m \u001b[0;34m=\u001b[0m \u001b[0mresult\u001b[0m\u001b[0;34m[\u001b[0m\u001b[0;34m'results'\u001b[0m\u001b[0;34m]\u001b[0m\u001b[0;34m[\u001b[0m\u001b[0;36m0\u001b[0m\u001b[0;34m]\u001b[0m\u001b[0;34m[\u001b[0m\u001b[0;34m'popularity'\u001b[0m\u001b[0;34m]\u001b[0m\u001b[0;34m\u001b[0m\u001b[0m\n\u001b[0m\u001b[1;32m     15\u001b[0m             \u001b[0mdf\u001b[0m\u001b[0;34m[\u001b[0m\u001b[0;34m'popu_ac3'\u001b[0m\u001b[0;34m]\u001b[0m\u001b[0;34m.\u001b[0m\u001b[0miloc\u001b[0m\u001b[0;34m[\u001b[0m\u001b[0mceleb_num\u001b[0m\u001b[0;34m]\u001b[0m \u001b[0;34m=\u001b[0m \u001b[0mpopu\u001b[0m\u001b[0;34m\u001b[0m\u001b[0m\n\u001b[1;32m     16\u001b[0m             \u001b[0mprint\u001b[0m\u001b[0;34m(\u001b[0m\u001b[0;34m'popu: '\u001b[0m\u001b[0;34m,\u001b[0m \u001b[0mpopu\u001b[0m\u001b[0;34m)\u001b[0m\u001b[0;34m\u001b[0m\u001b[0m\n",
      "\u001b[0;31mKeyError\u001b[0m: 'results'"
     ]
    }
   ],
   "source": [
    "#len(list_of_dic)\n",
    "for celeb_num in range(389, len(list_of_ac3)):\n",
    "    try:\n",
    "        print(celeb_num)\n",
    "        print(list_of_ac3[celeb_num])\n",
    "        people_name = list_of_ac3[celeb_num]\n",
    "        if type(list_of_ac3[celeb_num]) == float:\n",
    "            print('---empty data--- ', celeb_num)\n",
    "            df['popu_ac3'].iloc[celeb_num] = -99\n",
    "        else:\n",
    "            people_PATTERN = 'https://api.themoviedb.org/3/search/person?api_key=af1f5f7ab58dbb32c1083dec8113dd8b&language=en-US&query=' + people_name + '&page=1&include_adult=false'\n",
    "            r = requests.get(people_PATTERN.format(key=KEY))\n",
    "            result = r.json()\n",
    "            popu = result['results'][0]['popularity']\n",
    "            df['popu_ac3'].iloc[celeb_num] = popu\n",
    "            print('popu: ', popu)\n",
    "    except IndexError:\n",
    "        print('---unfound--- ', celeb_num)\n",
    "        df['popu_ac3'].iloc[celeb_num] = -999"
   ]
  },
  {
   "cell_type": "code",
   "execution_count": null,
   "metadata": {
    "collapsed": true
   },
   "outputs": [],
   "source": []
  }
 ],
 "metadata": {
  "kernelspec": {
   "display_name": "Python 3",
   "language": "python",
   "name": "python3"
  },
  "language_info": {
   "codemirror_mode": {
    "name": "ipython",
    "version": 3
   },
   "file_extension": ".py",
   "mimetype": "text/x-python",
   "name": "python",
   "nbconvert_exporter": "python",
   "pygments_lexer": "ipython3",
   "version": "3.6.1"
  }
 },
 "nbformat": 4,
 "nbformat_minor": 2
}
